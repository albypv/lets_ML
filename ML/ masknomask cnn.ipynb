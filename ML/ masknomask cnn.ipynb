{
 "cells": [
  {
   "cell_type": "code",
   "execution_count": 1,
   "id": "bbfcc7fe",
   "metadata": {},
   "outputs": [],
   "source": [
    "import tensorflow"
   ]
  },
  {
   "cell_type": "code",
   "execution_count": 1,
   "id": "f371c20d",
   "metadata": {},
   "outputs": [],
   "source": [
    "import os\n",
    "import numpy \n",
    "import matplotlib.pyplot as plt\n",
    "import matplotlib.image as mpimg\n",
    "import cv2\n",
    "from PIL import Image\n",
    "from sklearn.model_selection import train_test_split"
   ]
  },
  {
   "cell_type": "code",
   "execution_count": 2,
   "id": "37f82c23",
   "metadata": {},
   "outputs": [
    {
     "name": "stdout",
     "output_type": "stream",
     "text": [
      "['with_mask_1.jpg', 'with_mask_10.jpg', 'with_mask_100.jpg', 'with_mask_1000.jpg', 'with_mask_1001.jpg']\n"
     ]
    }
   ],
   "source": [
    "mask = os.listdir('C:/Users/pvalb/Desktop/python/facemask/with_mask')\n",
    "print (mask[0:5])"
   ]
  },
  {
   "cell_type": "code",
   "execution_count": 3,
   "id": "3e1f440e",
   "metadata": {},
   "outputs": [
    {
     "name": "stdout",
     "output_type": "stream",
     "text": [
      "['without_mask_1.jpg', 'without_mask_10.jpg', 'without_mask_100.jpg', 'without_mask_1000.jpg', 'without_mask_1001.jpg']\n"
     ]
    }
   ],
   "source": [
    "without_mask=os.listdir(\"C:/Users/pvalb/Desktop/python/facemask/without_mask\")\n",
    "print(without_mask[0:5])"
   ]
  },
  {
   "cell_type": "code",
   "execution_count": 4,
   "id": "973519bc",
   "metadata": {},
   "outputs": [
    {
     "data": {
      "text/plain": [
       "(3725, 3828)"
      ]
     },
     "execution_count": 4,
     "metadata": {},
     "output_type": "execute_result"
    }
   ],
   "source": [
    "len(mask),len(without_mask)"
   ]
  },
  {
   "cell_type": "code",
   "execution_count": 5,
   "id": "517b03ee",
   "metadata": {},
   "outputs": [],
   "source": [
    "mask_label=[1]*len(mask)\n",
    "without_mask_label=[0]*len(without_mask)"
   ]
  },
  {
   "cell_type": "code",
   "execution_count": 6,
   "id": "bcfb30b2",
   "metadata": {},
   "outputs": [
    {
     "name": "stdout",
     "output_type": "stream",
     "text": [
      "[1, 1, 1, 1, 1] [0, 0, 0, 0, 0]\n"
     ]
    }
   ],
   "source": [
    "print(mask_label[0:5],without_mask_label[0:5])"
   ]
  },
  {
   "cell_type": "code",
   "execution_count": 7,
   "id": "b9f6daf5",
   "metadata": {},
   "outputs": [
    {
     "data": {
      "text/plain": [
       "7553"
      ]
     },
     "execution_count": 7,
     "metadata": {},
     "output_type": "execute_result"
    }
   ],
   "source": [
    "labels=mask_label+without_mask_label\n",
    "len(labels)"
   ]
  },
  {
   "cell_type": "code",
   "execution_count": 8,
   "id": "4c75c04a",
   "metadata": {},
   "outputs": [
    {
     "data": {
      "image/png": "[encoded data removed]",
      "text/plain": [
       "<Figure size 640x480 with 1 Axes>"
      ]
     },
     "metadata": {},
     "output_type": "display_data"
    }
   ],
   "source": [
    "img=mpimg.imread(\"C:/Users/pvalb/Desktop/python/facemask/without_mask/without_mask_1.jpg\")\n",
    "imgplot=plt.imshow(img)\n",
    "plt.show()"
   ]
  },
  {
   "cell_type": "code",
   "execution_count": 9,
   "id": "387e9637",
   "metadata": {},
   "outputs": [
    {
     "name": "stderr",
     "output_type": "stream",
     "text": [
      "C:\\Users\\pvalb\\anaconda3\\lib\\site-packages\\PIL\\Image.py:996: UserWarning: Palette images with Transparency expressed in bytes should be converted to RGBA images\n",
      "  warnings.warn(\n"
     ]
    }
   ],
   "source": [
    "import numpy as np\n",
    "m='C:/Users/pvalb/Desktop/python/facemask/with_mask/'\n",
    "data=[]\n",
    "for i in mask:\n",
    "    image=Image.open(m + i)\n",
    "    image=image.resize((128,128))\n",
    "    image=image.convert('RGB')\n",
    "    image=np.array(image)\n",
    "    data.append(image)\n",
    "    \n",
    "\n",
    "n='C:/Users/pvalb/Desktop/python/facemask/without_mask/'\n",
    "for i in without_mask:\n",
    "    image=Image.open(n + i)\n",
    "    image=image.resize((128,128))\n",
    "    image=image.convert('RGB')\n",
    "    image=np.array(image)\n",
    "    data.append(image)"
   ]
  },
  {
   "cell_type": "code",
   "execution_count": null,
   "id": "17fa5d08",
   "metadata": {},
   "outputs": [],
   "source": [
    "len(data)"
   ]
  },
  {
   "cell_type": "code",
   "execution_count": 10,
   "id": "a6399bae",
   "metadata": {},
   "outputs": [],
   "source": [
    "x=np.array(data)\n",
    "y=np.array(labels)"
   ]
  },
  {
   "cell_type": "code",
   "execution_count": 11,
   "id": "f77d2587",
   "metadata": {},
   "outputs": [
    {
     "data": {
      "text/plain": [
       "(7553, 128, 128, 3)"
      ]
     },
     "execution_count": 11,
     "metadata": {},
     "output_type": "execute_result"
    }
   ],
   "source": [
    "x.shape"
   ]
  },
  {
   "cell_type": "code",
   "execution_count": 12,
   "id": "76677115",
   "metadata": {},
   "outputs": [],
   "source": [
    "x_train,x_test,y_train,y_test=train_test_split(x,y,test_size=0.2,random_state=2)"
   ]
  },
  {
   "cell_type": "code",
   "execution_count": 13,
   "id": "1c93b323",
   "metadata": {},
   "outputs": [],
   "source": [
    "x_train_scaled=x_train/255\n",
    "x_test_scaler=x_test/255\n"
   ]
  },
  {
   "cell_type": "code",
   "execution_count": 14,
   "id": "2c930017",
   "metadata": {},
   "outputs": [],
   "source": [
    "import tensorflow as tf\n",
    "from tensorflow import keras"
   ]
  },
  {
   "cell_type": "code",
   "execution_count": 15,
   "id": "778b500d",
   "metadata": {},
   "outputs": [],
   "source": [
    "model=keras.Sequential()\n",
    "model.add(keras.layers.Conv2D(32,kernel_size=(3,3),activation='relu',input_shape=(128,128,3)))\n",
    "model.add(keras.layers.MaxPooling2D(pool_size=(2,2)))\n",
    "model.add(keras.layers.Conv2D(64,kernel_size=(3,3),activation='relu' ))\n",
    "model.add(keras.layers.MaxPooling2D(pool_size=(2,2)))\n",
    "model.add(keras.layers.Flatten()) \n",
    "model.add(keras.layers.Dense(128,activation='relu'))\n",
    "model.add(keras.layers.Dropout(0.5))\n",
    "model.add(keras.layers.Dense(128,activation='relu'))\n",
    "model.add(keras.layers.Dropout(0.5))\n",
    "model.add(keras.layers.Dense(1,activation='sigmoid'))\n"
   ]
  },
  {
   "cell_type": "code",
   "execution_count": 16,
   "id": "51b43401",
   "metadata": {},
   "outputs": [],
   "source": [
    "model.compile(loss='binary_crossentropy',optimizer='Adam',metrics=['accuracy'])"
   ]
  },
  {
   "cell_type": "code",
   "execution_count": 17,
   "id": "eb57d729",
   "metadata": {},
   "outputs": [
    {
     "data": {
      "text/plain": [
       "(6042,)"
      ]
     },
     "execution_count": 17,
     "metadata": {},
     "output_type": "execute_result"
    }
   ],
   "source": [
    "y_train.shape"
   ]
  },
  {
   "cell_type": "code",
   "execution_count": 18,
   "id": "b3d840b6",
   "metadata": {},
   "outputs": [
    {
     "name": "stdout",
     "output_type": "stream",
     "text": [
      "Epoch 1/10\n",
      "170/170 [==============================] - 314s 2s/step - loss: 0.4597 - accuracy: 0.7865 - val_loss: 0.2968 - val_accuracy: 0.8843\n",
      "Epoch 2/10\n",
      "170/170 [==============================] - 266s 2s/step - loss: 0.2845 - accuracy: 0.8900 - val_loss: 0.2413 - val_accuracy: 0.9025\n",
      "Epoch 3/10\n",
      "170/170 [==============================] - 261s 2s/step - loss: 0.2427 - accuracy: 0.9062 - val_loss: 0.2076 - val_accuracy: 0.9207\n",
      "Epoch 4/10\n",
      "170/170 [==============================] - 259s 2s/step - loss: 0.2015 - accuracy: 0.9185 - val_loss: 0.1968 - val_accuracy: 0.9372\n",
      "Epoch 5/10\n",
      "170/170 [==============================] - 262s 2s/step - loss: 0.1746 - accuracy: 0.9367 - val_loss: 0.2648 - val_accuracy: 0.9058\n",
      "Epoch 6/10\n",
      "170/170 [==============================] - 276s 2s/step - loss: 0.1398 - accuracy: 0.9443 - val_loss: 0.2063 - val_accuracy: 0.9322\n",
      "Epoch 7/10\n",
      "170/170 [==============================] - 292s 2s/step - loss: 0.1204 - accuracy: 0.9527 - val_loss: 0.2665 - val_accuracy: 0.9223\n",
      "Epoch 8/10\n",
      "170/170 [==============================] - 238s 1s/step - loss: 0.1052 - accuracy: 0.9606 - val_loss: 0.2115 - val_accuracy: 0.9455\n",
      "Epoch 9/10\n",
      "170/170 [==============================] - 222s 1s/step - loss: 0.0895 - accuracy: 0.9649 - val_loss: 0.2737 - val_accuracy: 0.9273\n",
      "Epoch 10/10\n",
      "170/170 [==============================] - 223s 1s/step - loss: 0.0804 - accuracy: 0.9708 - val_loss: 0.2283 - val_accuracy: 0.9504\n"
     ]
    }
   ],
   "source": [
    "history=model.fit(x_train_scaled,y_train,epochs=10,validation_split=0.1)"
   ]
  },
  {
   "cell_type": "code",
   "execution_count": 20,
   "id": "44d4254f",
   "metadata": {},
   "outputs": [
    {
     "name": "stdout",
     "output_type": "stream",
     "text": [
      "48/48 [==============================] - 23s 476ms/step - loss: 0.2097 - accuracy: 0.9351\n"
     ]
    },
    {
     "data": {
      "text/plain": [
       "0.9351422786712646"
      ]
     },
     "execution_count": 20,
     "metadata": {},
     "output_type": "execute_result"
    }
   ],
   "source": [
    "loss,accuracy=model.evaluate(x_test_scaler,y_test)\n",
    "accuracy"
   ]
  },
  {
   "cell_type": "code",
   "execution_count": null,
   "id": "2938bc26",
   "metadata": {},
   "outputs": [],
   "source": [
    "im=input(\"Path of image\")\n",
    "image=Image.open(im)\n",
    "image=image.resize((128,128))\n",
    "image=image/255\n",
    "image=np.reshape(image,[1,128,128,3])\n",
    "input_prediction=model.predict(image)\n",
    "ans=np.argmax(input_prediction)\n",
    "if ans==1:\n",
    "    print(\"maskm on\")\n",
    "else:\n",
    "    print(\"no mask\")\n"
   ]
  },
  {
   "cell_type": "code",
   "execution_count": null,
   "id": "5d1fa5dc",
   "metadata": {},
   "outputs": [],
   "source": []
  }
 ],
 "metadata": {
  "kernelspec": {
   "display_name": "Python 3 (ipykernel)",
   "language": "python",
   "name": "python3"
  },
  "language_info": {
   "codemirror_mode": {
    "name": "ipython",
    "version": 3
   },
   "file_extension": ".py",
   "mimetype": "text/x-python",
   "name": "python",
   "nbconvert_exporter": "python",
   "pygments_lexer": "ipython3",
   "version": "3.10.9"
  }
 },
 "nbformat": 4,
 "nbformat_minor": 5
}
